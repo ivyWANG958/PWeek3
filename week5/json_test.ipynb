{
 "cells": [
  {
   "cell_type": "code",
   "execution_count": 12,
   "metadata": {},
   "outputs": [],
   "source": [
    "# Some advanced JSON examples involving ordered dicts and classes\n",
    "import json\n",
    "\n",
    "# Some JSON encoded text\n",
    "s = '{\"name\": \"ACME\", \"shares\": 50, \"price\": 490.1}'         "
   ]
  },
  {
   "cell_type": "code",
   "execution_count": 18,
   "metadata": {},
   "outputs": [
    {
     "name": "stdout",
     "output_type": "stream",
     "text": [
      "OrderedDict([('__classname__', 'Point'), ('x', 3), ('y', 4)])\n"
     ]
    }
   ],
   "source": [
    "# (a) Turning JSON into an OrderedDict\n",
    "# object_pairs_hook is an argument in json encoders&decoders. url(https://docs.python.org/3/library/json.html#encoders-and-decoders)\n",
    "# object_pairs_hook is an optional function that will be called with the result of any object literal decoded with an ordered list of pairs. \n",
    "# The return value of object_pairs_hook will be used instead of the dict. \n",
    "\n",
    "from collections import OrderedDict\n",
    "data = json.loads(s, object_pairs_hook = OrderedDict) \n",
    "print(data)"
   ]
  },
  {
   "cell_type": "code",
   "execution_count": 15,
   "metadata": {},
   "outputs": [
    {
     "name": "stdout",
     "output_type": "stream",
     "text": [
      "ACME\n",
      "50\n",
      "490.1\n"
     ]
    }
   ],
   "source": [
    "# (b) Using JSON to populate an instance\n",
    "# object_hook is an optional function that will be called with the result of any object literal decoded (a dict). \n",
    "# The return value of object_hook will be used instead of the dict. \n",
    "# This feature can be used to implement custom decoders\n",
    "# If object_hook is also defined, the object_pairs_hook takes priority.\n",
    "class JSONObject:\n",
    "    def __init__(self, d):\n",
    "        self.__dict__ = d\n",
    "\n",
    "data = json.loads(s, object_hook=JSONObject)\n",
    "\n",
    "print(data.name)\n",
    "print(data.shares)\n",
    "print(data.price)"
   ]
  },
  {
   "cell_type": "code",
   "execution_count": 16,
   "metadata": {},
   "outputs": [
    {
     "name": "stdout",
     "output_type": "stream",
     "text": [
      "{\"__classname__\": \"Point\", \"x\": 3, \"y\": 4}\n"
     ]
    }
   ],
   "source": [
    "# (c) Encoding instances\n",
    "\n",
    "class Point:\n",
    "    def __init__(self, x, y):\n",
    "        self.x = x\n",
    "        self.y = y\n",
    "\n",
    "def serialize_instance(obj):\n",
    "    d = { '__classname__' : type(obj).__name__ }\n",
    "    d.update(vars(obj))\n",
    "    return d\n",
    "\n",
    "p = Point(3,4)\n",
    "s = json.dumps(p, default=serialize_instance)\n",
    "print(s)"
   ]
  },
  {
   "cell_type": "code",
   "execution_count": 17,
   "metadata": {},
   "outputs": [
    {
     "name": "stdout",
     "output_type": "stream",
     "text": [
      "<__main__.Point object at 0x10d62e630>\n",
      "3\n",
      "4\n"
     ]
    }
   ],
   "source": [
    "# (d) Decoding instances\n",
    "classes = {\n",
    "    'Point' : Point\n",
    "}\n",
    "\n",
    "def unserialize_object(d):\n",
    "    clsname = d.pop('__classname__', None)\n",
    "    if clsname:\n",
    "        cls = classes[clsname]\n",
    "        obj = cls.__new__(cls)\n",
    "        for key, value in d.items():\n",
    "            setattr(obj, key, value)\n",
    "        return obj\n",
    "    else:\n",
    "        return d\n",
    "\n",
    "a = json.loads(s, object_hook=unserialize_object)\n",
    "print(a)\n",
    "print(a.x)\n",
    "print(a.y)"
   ]
  },
  {
   "cell_type": "code",
   "execution_count": null,
   "metadata": {},
   "outputs": [],
   "source": []
  },
  {
   "cell_type": "code",
   "execution_count": null,
   "metadata": {},
   "outputs": [],
   "source": []
  }
 ],
 "metadata": {
  "kernelspec": {
   "display_name": "Python 3",
   "language": "python",
   "name": "python3"
  },
  "language_info": {
   "codemirror_mode": {
    "name": "ipython",
    "version": 3
   },
   "file_extension": ".py",
   "mimetype": "text/x-python",
   "name": "python",
   "nbconvert_exporter": "python",
   "pygments_lexer": "ipython3",
   "version": "3.7.0"
  }
 },
 "nbformat": 4,
 "nbformat_minor": 2
}
