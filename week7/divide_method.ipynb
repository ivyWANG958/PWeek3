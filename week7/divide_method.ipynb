{
 "cells": [
  {
   "cell_type": "code",
   "execution_count": null,
   "metadata": {},
   "outputs": [],
   "source": [
    "import requests\n",
    "import csv\n",
    "from bs4 import BeautifulSoup"
   ]
  },
  {
   "cell_type": "code",
   "execution_count": null,
   "metadata": {},
   "outputs": [],
   "source": [
    "r = requests.get('http://www.jour.hkbu.edu.hk/faculty/')\n",
    "r.encoding = 'utf-8'\n",
    "data = BeautifulSoup(r.text,\"html.parser\")\n",
    "data"
   ]
  },
  {
   "cell_type": "code",
   "execution_count": null,
   "metadata": {},
   "outputs": [],
   "source": [
    "# FACULTY MEMBERS as fm\n",
    "fms = data.findAll(\"div\",{\"class\":\"row\"})\n",
    "fm_member = []\n",
    "for fm in fms:\n",
    "    fm1 =  fm.findAll(\"div\",{'class': 'col-lg-3 col-xs-6 col-sm-4 col-md-3'})\n",
    "    for fm2 in fm1:\n",
    "        fm3 = fm2.findAll(\"a\")\n",
    "        for fm2 in fm3:\n",
    "            if fm2 not in fm_member:\n",
    "                fm_member.append(fm2)\n",
    "print(fm_member)"
   ]
  },
  {
   "cell_type": "code",
   "execution_count": null,
   "metadata": {},
   "outputs": [],
   "source": [
    "len(fm_member)"
   ]
  },
  {
   "cell_type": "code",
   "execution_count": null,
   "metadata": {},
   "outputs": [],
   "source": [
    "fm_member[0]"
   ]
  },
  {
   "cell_type": "code",
   "execution_count": null,
   "metadata": {},
   "outputs": [],
   "source": [
    "link = fm_member[0].find('a').get(\"href\")\n",
    "link"
   ]
  },
  {
   "cell_type": "code",
   "execution_count": null,
   "metadata": {},
   "outputs": [],
   "source": [
    "name = fm_member[0].find(\"div\",{\"class\":\"staff-inner\"}).h4.text.strip()\n",
    "\n",
    "position = fm_member[0].find(\"div\",{\"class\":\"staff-inner\"}).h5.text.strip()\n",
    "\n",
    "intro = fm_member[0].find(\"div\",{\"class\":\"visible-lg\"}).text.strip()\n",
    "print(name, position, intro)"
   ]
  },
  {
   "cell_type": "code",
   "execution_count": null,
   "metadata": {},
   "outputs": [],
   "source": [
    "filename = \"facultyList.csv\"\n",
    "f = open(filename, \"w\")\n",
    "\n",
    "headers = \"name, position, intro, contact\\n\"\n",
    "f.write(headers)\n",
    "f.write(\"FACULTY MEMBERS\" + \"\\n\")\n",
    "\n",
    "for member in fm_member:\n",
    "    #link_member = member.find('a',{\"href\"})\n",
    "    #link = link_member.text\n",
    "    name_member = member.find(\"div\",{\"class\":\"staff-inner\"})\n",
    "    name = name_member.h4.text.strip().replace(\",\",\"|\")\n",
    "    position_member = member.find(\"div\",{\"class\":\"staff-inner\"})\n",
    "    position = position_member.h5.text.strip().replace(\",\",\"|\")\n",
    "    intro_member = member.find(\"div\",{\"class\":\"visible-lg\"})\n",
    "    intro = intro_member.text.strip()\n",
    "\n",
    "    #print(\"link :\", link)\n",
    "    print(\"name : \", name)\n",
    "    print(\"position : \", position)\n",
    "    print(\"intro : \", intro)\n",
    "\n",
    "    f.write(name + \",\" + position.replace(\"\\n\",\"|\") + \",\" + intro.replace(\",\",\"|\") + \"\\n\")\n",
    "\n"
   ]
  },
  {
   "cell_type": "code",
   "execution_count": null,
   "metadata": {},
   "outputs": [],
   "source": [
    "# PART-TIME COLLEAGUES as pt\n",
    "pts = data.findAll(\"div\", {\"id\": \"pt-colleagues\"})\n",
    "pt_member = []\n",
    "for pt in pts:\n",
    "    pt1 =  pt.findAll(\"div\",{'class': 'row'})\n",
    "    for pt2 in pt1:\n",
    "        pt3 = pt2.findAll(\"div\",{\"col-lg-3 col-xs-6 col-sm-4 col-md-3\"})\n",
    "        for pt4 in pt3:\n",
    "            pt5 = pt4.findAll(\"div\",{'class': 'staff-info'})\n",
    "            for pt5 in pt4:  \n",
    "                if pt5 not in pt_member:\n",
    "                    pt_member.append(pt5)\n",
    "\n",
    "print(pt_member)"
   ]
  },
  {
   "cell_type": "code",
   "execution_count": null,
   "metadata": {},
   "outputs": [],
   "source": [
    "len(pt_member)"
   ]
  },
  {
   "cell_type": "code",
   "execution_count": null,
   "metadata": {},
   "outputs": [],
   "source": [
    "pt_member[0] # do not know why"
   ]
  },
  {
   "cell_type": "code",
   "execution_count": null,
   "metadata": {},
   "outputs": [],
   "source": [
    "pt_member[13] #do not know why(it suppose appear under {class}:{staff-inner})"
   ]
  },
  {
   "cell_type": "code",
   "execution_count": null,
   "metadata": {},
   "outputs": [],
   "source": [
    "pt_member_re = pt_member[1:11]\n",
    "len(pt_member_re)"
   ]
  },
  {
   "cell_type": "code",
   "execution_count": null,
   "metadata": {},
   "outputs": [],
   "source": [
    "f.write(\"PART-TIME COLLEAGUES\"+ \"\\n\")\n",
    "for member in pt_member_re:\n",
    "    #link_member = member.find('a',{\"href\"})\n",
    "    #link = link_member.text\n",
    "    name_member = member.find(\"div\",{\"class\":\"staff-info\"})\n",
    "    name = name_member.h4.text.strip().replace(\",\",\"|\")\n",
    "    course_member = member.find(\"div\",{\"class\":\"course-taught visible-lg visible-md\"})\n",
    "    course = course_member.text.strip().replace(\",\",\"|\")\n",
    "\n",
    "    \n",
    "    #print(\"link :\", link)\n",
    "    print(\"name : \", name)\n",
    "    print(\"position : \", position)\n",
    "\n",
    "    f.write(name + \",\" + position.replace(\"\\n\",\"|\") + \",\" + \"\" + \"\\n\")\n"
   ]
  },
  {
   "cell_type": "code",
   "execution_count": null,
   "metadata": {},
   "outputs": [],
   "source": [
    "#VISITING SCHOLARS as vs\n",
    "vs = pt_member[11:14]\n",
    "len(vs)"
   ]
  },
  {
   "cell_type": "code",
   "execution_count": null,
   "metadata": {},
   "outputs": [],
   "source": [
    "f.write(\"VISITING SCHOLARS\"+ \"\\n\")\n",
    "for member in vs:\n",
    "    #link_member = member.find('a',{\"href\"})\n",
    "    #link = link_member.text\n",
    "    name_member = member.find(\"div\",{\"class\":\"staff-inner\"})\n",
    "    name = name_member.h4.text.strip().replace(\",\",\"|\")\n",
    "    intro_member = member.find(\"h5\",{\"class\":\"hidden-xs\"})\n",
    "    intro = intro_member.text.strip().replace(\",\",\"|\")\n",
    "\n",
    "    \n",
    "    #print(\"link :\", link)\n",
    "    print(\"name : \", name)\n",
    "    print(\"intro : \", intro)\n",
    "\n",
    "    f.write(name + \",\" + \" \" + \",\" + intro.replace(\",\",\"|\") + \"\\n\")\n"
   ]
  },
  {
   "cell_type": "code",
   "execution_count": null,
   "metadata": {},
   "outputs": [],
   "source": [
    "# SUPPORTING STAFF as st\n",
    "sts = data.findAll(\"div\", {\"id\": \"supporting-staff\"})\n",
    "st_member = []\n",
    "for st in sts:\n",
    "    st1 =  st.findAll(\"div\",{'class': 'row'})\n",
    "    for st2 in st1:\n",
    "        st3 = st2.findAll(\"div\",{'class': 'col-lg-3 col-md-4 col-sm-6 col-xs-12'})\n",
    "        for st3 in st2:  \n",
    "            if st3 not in st_member:\n",
    "                st_member.append(st3)\n",
    "\n",
    "print(st_member)\n"
   ]
  },
  {
   "cell_type": "code",
   "execution_count": null,
   "metadata": {},
   "outputs": [],
   "source": [
    "st_member_re = st_member[2:5]"
   ]
  },
  {
   "cell_type": "code",
   "execution_count": null,
   "metadata": {},
   "outputs": [],
   "source": [
    "f.write(\"SUPPORTING STAFF\" + \"\\n\")\n",
    "for member in st_member_re:\n",
    "    #link_member = member.find('a',{\"href\"})\n",
    "    #link = link_member.text\n",
    "    name_member = member.find(\"div\",{\"class\":\"staff-info\"})\n",
    "    name = name_member.h4.text.strip().replace(\",\",\"|\")\n",
    "    position_member = member.find(\"h5\",{\"class\":\"member-title hidden-xs\"})\n",
    "    position = position_member.text.strip().replace(\",\",\"|\")\n",
    "    contact_member = member.find(\"div\",{\"class\":\"member-info\"})\n",
    "    contact = contact_member.text.strip()\n",
    "\n",
    "    \n",
    "    #print(\"link :\", link)\n",
    "    print(\"name : \", name)\n",
    "    print(\"position : \", position)\n",
    "    print(\"contact :\", contact)\n",
    "\n",
    "    f.write(name + \",\" + position.replace(\"\\n\",\"|\") + \",\" + \" \" + \",\" + contact.replace(\"\\n\",\"|\") + \"\\n\")\n",
    "    \n",
    "f.close()\n"
   ]
  },
  {
   "cell_type": "code",
   "execution_count": null,
   "metadata": {},
   "outputs": [],
   "source": []
  },
  {
   "cell_type": "code",
   "execution_count": null,
   "metadata": {},
   "outputs": [],
   "source": []
  }
 ],
 "metadata": {
  "kernelspec": {
   "display_name": "Python 3",
   "language": "python",
   "name": "python3"
  },
  "language_info": {
   "codemirror_mode": {
    "name": "ipython",
    "version": 3
   },
   "file_extension": ".py",
   "mimetype": "text/x-python",
   "name": "python",
   "nbconvert_exporter": "python",
   "pygments_lexer": "ipython3",
   "version": "3.7.0"
  }
 },
 "nbformat": 4,
 "nbformat_minor": 2
}
