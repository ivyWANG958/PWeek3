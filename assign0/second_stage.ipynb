{
 "cells": [
  {
   "cell_type": "code",
   "execution_count": 90,
   "metadata": {},
   "outputs": [],
   "source": [
    "#!/usr/bin/env python\n",
    "# coding: utf-8\n",
    "import re\n",
    "import csv"
   ]
  },
  {
   "cell_type": "code",
   "execution_count": 91,
   "metadata": {},
   "outputs": [
    {
     "name": "stdout",
     "output_type": "stream",
     "text": [
      "the 82\n",
      "to 30\n",
      "in 29\n",
      "of 26\n",
      "a 23\n",
      "s 20\n",
      "trade 19\n",
      "chinese 17\n",
      "and 16\n",
      "war 15\n",
      "china 14\n",
      "it 11\n",
      "this 11\n",
      "that 11\n",
      "us 10\n"
     ]
    }
   ],
   "source": [
    "word_count = {}\n",
    "with open('trade-wars-news1.txt', 'r') as f:\n",
    "    data = f.read()\n",
    "    for words in data:\n",
    "        words = re.findall(r\"[%$\\w-]+\", data) # need to deal with how to express \"'\" in \"they're, etc\". To regulate the \"s, ve, etc.\" \n",
    "    for word in words:\n",
    "        word = word.lower()\n",
    "        if not word in word_count:\n",
    "            word_count[word] = 1\n",
    "        else:\n",
    "            word_count[word] += 1\n",
    "\n",
    "def get_count(word_count_tuples):\n",
    "    return word_count_tuples[1]\n",
    "\n",
    "items = sorted(word_count.items(), key = get_count, reverse = True)\n",
    "#print the top 15 keywords \n",
    "for item in items[0:15]:\n",
    "    print(item[0],item[1])\n"
   ]
  },
  {
   "cell_type": "code",
   "execution_count": 92,
   "metadata": {},
   "outputs": [],
   "source": [
    "# full keyword frequency list into a CSV file\n",
    "\n",
    "#items = sorted(word_count.items(), key = get_count, reverse = True)\n",
    "headers = ['keyword','frequency']\n",
    "\n",
    "with open('news.csv','w') as n:\n",
    "    n_csv = csv.writer(n)\n",
    "    n_csv.writerow(headers)\n",
    "    n_csv.writerows(items)\n"
   ]
  },
  {
   "cell_type": "code",
   "execution_count": null,
   "metadata": {},
   "outputs": [],
   "source": []
  }
 ],
 "metadata": {
  "kernelspec": {
   "display_name": "Python 3",
   "language": "python",
   "name": "python3"
  },
  "language_info": {
   "codemirror_mode": {
    "name": "ipython",
    "version": 3
   },
   "file_extension": ".py",
   "mimetype": "text/x-python",
   "name": "python",
   "nbconvert_exporter": "python",
   "pygments_lexer": "ipython3",
   "version": "3.7.0"
  }
 },
 "nbformat": 4,
 "nbformat_minor": 2
}
